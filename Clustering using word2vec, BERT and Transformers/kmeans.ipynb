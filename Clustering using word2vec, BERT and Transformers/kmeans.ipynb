{
 "cells": [
  {
   "cell_type": "code",
   "execution_count": 11,
   "metadata": {},
   "outputs": [],
   "source": [
    "from sklearn.datasets import make_blobs\n",
    "\n",
    "# Create dataset with 3 random cluster centers and 1000 datapoints\n",
    "x, y = make_blobs(n_samples = 1000, centers = 3, n_features=2, shuffle=True, random_state=31)"
   ]
  },
  {
   "cell_type": "code",
   "execution_count": 12,
   "metadata": {},
   "outputs": [
    {
     "name": "stdout",
     "output_type": "stream",
     "text": [
      "[[-4.10785368  7.82699681]\n",
      " [-5.66810193 -8.43336082]\n",
      " [-3.991989    9.4237974 ]\n",
      " ...\n",
      " [-4.34556376 10.08902531]\n",
      " [-4.18541548 10.94587087]\n",
      " [-6.60092444 -6.81458897]]\n"
     ]
    }
   ],
   "source": [
    "print(x)"
   ]
  },
  {
   "cell_type": "code",
   "execution_count": 13,
   "metadata": {},
   "outputs": [
    {
     "name": "stdout",
     "output_type": "stream",
     "text": [
      "[0 2 0 2 2 0 1 0 0 1 0 2 1 2 2 2 1 0 0 0 2 1 1 2 2 2 0 1 1 0 0 0 1 2 0 0 1\n",
      " 0 2 2 0 0 2 0 1 2 0 1 0 1 2 1 0 1 0 1 0 0 2 0 2 0 1 0 1 1 2 2 0 1 0 2 0 2\n",
      " 1 0 1 2 2 1 2 2 1 0 0 1 2 0 2 2 1 2 1 1 2 0 2 0 1 0 2 0 1 0 0 1 1 1 1 1 0\n",
      " 2 1 1 0 0 2 2 2 0 1 1 2 1 1 1 1 0 1 2 1 2 1 0 2 2 2 1 0 2 1 2 1 1 0 0 1 2\n",
      " 0 2 0 1 2 1 1 1 1 0 2 0 1 2 1 2 0 1 2 1 0 2 0 0 0 1 0 1 2 0 2 2 2 2 1 2 2\n",
      " 2 0 1 1 2 1 2 0 0 0 1 2 2 1 1 0 1 2 0 0 0 1 1 0 0 1 2 1 1 1 0 2 1 2 1 2 1\n",
      " 1 1 0 0 2 2 1 1 1 1 1 0 0 1 0 1 1 2 2 2 2 2 1 2 0 1 1 2 1 2 2 0 0 0 1 2 0\n",
      " 2 2 2 1 0 2 2 0 2 0 1 1 2 0 1 2 0 2 1 0 0 1 1 2 1 0 0 0 1 2 2 1 0 2 0 0 1\n",
      " 1 2 1 0 0 0 2 2 2 0 2 1 0 2 1 1 0 2 0 0 0 0 0 2 2 0 1 2 2 1 1 2 2 0 1 1 0\n",
      " 0 0 1 0 2 1 2 2 1 1 0 1 2 2 1 2 2 1 0 2 0 1 2 1 1 0 1 0 0 1 1 1 1 2 0 2 2\n",
      " 2 1 2 1 1 0 1 0 0 1 0 0 1 2 0 0 0 1 1 0 1 2 2 1 1 1 0 2 0 2 0 2 2 0 0 2 2\n",
      " 0 2 1 0 2 0 2 0 1 0 1 1 0 0 2 1 2 0 1 0 0 2 2 1 1 2 2 1 0 2 1 2 0 0 1 0 1\n",
      " 2 2 0 1 2 1 0 1 0 0 2 0 2 1 0 0 2 2 0 1 1 1 1 0 1 0 0 2 2 1 2 1 1 0 2 0 1\n",
      " 2 1 1 0 1 1 1 1 2 1 1 1 1 0 2 0 0 2 1 2 2 0 0 1 2 1 0 0 0 2 2 0 1 0 0 2 1\n",
      " 0 2 0 1 2 0 1 1 2 2 1 1 2 1 2 1 0 0 0 1 1 0 0 1 1 1 1 1 2 0 2 2 1 2 0 1 1\n",
      " 2 2 2 0 0 0 0 0 1 2 0 2 2 0 1 2 0 1 1 0 2 2 0 2 0 0 1 1 2 2 1 1 2 0 1 2 1\n",
      " 2 0 1 1 1 0 2 2 0 0 1 1 2 2 2 2 2 1 0 1 2 0 2 0 1 0 0 0 0 2 2 0 0 2 2 2 1\n",
      " 1 1 1 0 1 2 2 0 0 0 2 2 2 2 1 1 2 0 0 0 1 1 2 2 2 2 0 1 1 0 1 2 0 0 0 0 1\n",
      " 0 2 2 2 0 0 1 1 2 1 1 2 1 2 2 2 1 1 0 1 1 1 0 1 1 2 2 1 2 2 0 0 1 1 1 2 1\n",
      " 2 1 2 2 1 2 1 0 1 2 1 2 1 0 1 0 1 0 0 2 2 0 2 2 0 2 2 2 0 2 2 0 2 1 0 1 2\n",
      " 1 1 1 0 2 2 0 1 0 1 1 2 1 1 0 1 2 0 2 1 1 1 2 0 2 2 0 0 1 1 1 1 1 2 0 2 1\n",
      " 2 0 0 0 0 0 1 2 2 1 1 0 1 0 2 2 2 0 2 1 2 0 0 2 0 0 1 2 1 0 0 2 2 2 2 0 2\n",
      " 0 2 2 2 0 0 1 0 2 0 0 0 2 2 1 1 2 0 2 0 1 0 0 0 1 0 1 2 2 1 2 1 1 1 1 0 2\n",
      " 0 1 0 1 2 2 0 0 1 1 1 0 1 0 2 2 0 2 2 0 1 0 0 0 1 2 0 0 2 1 0 2 0 0 0 2 2\n",
      " 2 2 0 2 1 1 2 1 0 0 2 2 0 1 2 1 2 1 0 0 0 1 0 2 2 0 0 2 2 1 1 2 0 2 1 0 1\n",
      " 1 2 0 2 1 0 1 0 1 2 0 0 2 0 1 1 1 1 0 2 1 1 0 2 2 1 2 2 2 0 0 2 1 2 0 1 0\n",
      " 2 0 2 1 0 0 2 0 2 0 0 2 2 0 0 1 2 0 0 1 2 0 2 1 1 0 1 0 2 2 0 1 2 2 0 0 0\n",
      " 2]\n"
     ]
    }
   ],
   "source": [
    "print(y)"
   ]
  },
  {
   "cell_type": "code",
   "execution_count": 16,
   "metadata": {},
   "outputs": [],
   "source": [
    "from sklearn.cluster import KMeans\n",
    "\n",
    "# function returns WSS score for k values from 1 to kmax\n",
    "def calculate_WSS(points, kmax):\n",
    "  sse = []\n",
    "  for k in range(1, kmax+1):\n",
    "    kmeans = KMeans(n_clusters = k).fit(points)\n",
    "    centroids = kmeans.cluster_centers_\n",
    "    pred_clusters = kmeans.predict(points)\n",
    "    curr_sse = 0\n",
    "    \n",
    "    # calculate square of Euclidean distance of each point from its cluster center and add to current WSS\n",
    "    for i in range(len(points)):\n",
    "      curr_center = centroids[pred_clusters[i]]\n",
    "      for j in range(len(curr_center)):\n",
    "        curr_sse += (points[i, j] - curr_center[j]) ** 2\n",
    "\n",
    "    sse.append(curr_sse)\n",
    "  return sse"
   ]
  },
  {
   "cell_type": "code",
   "execution_count": 24,
   "metadata": {},
   "outputs": [
    {
     "data": {
      "image/png": "[encoded data removed]",
      "text/plain": [
       "<Figure size 432x288 with 1 Axes>"
      ]
     },
     "metadata": {
      "needs_background": "light"
     },
     "output_type": "display_data"
    }
   ],
   "source": [
    "import matplotlib.pyplot as plt\n",
    "import numpy as np\n",
    "\n",
    "kmax=20\n",
    "xpoints = np.array(range(1,kmax+1))\n",
    "sse=calculate_WSS(x,kmax)\n",
    "\n",
    "plt.plot(xpoints, sse)\n",
    "plt.show()\n"
   ]
  },
  {
   "cell_type": "code",
   "execution_count": null,
   "metadata": {},
   "outputs": [],
   "source": []
  }
 ],
 "metadata": {
  "interpreter": {
   "hash": "0690bac5293af4e8e4628d2f80e369a365047003faf7369d6b14a3ce7c8c0ef5"
  },
  "kernelspec": {
   "display_name": "Python 3.10.4 ('d2l')",
   "language": "python",
   "name": "python3"
  },
  "language_info": {
   "codemirror_mode": {
    "name": "ipython",
    "version": 3
   },
   "file_extension": ".py",
   "mimetype": "text/x-python",
   "name": "python",
   "nbconvert_exporter": "python",
   "pygments_lexer": "ipython3",
   "version": "3.10.4"
  },
  "orig_nbformat": 4
 },
 "nbformat": 4,
 "nbformat_minor": 2
}
